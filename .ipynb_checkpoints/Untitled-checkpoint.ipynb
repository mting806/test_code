{
 "cells": [
  {
   "cell_type": "code",
   "execution_count": 2,
   "id": "34e9294d-1bf2-4db1-93bb-97953bed2182",
   "metadata": {},
   "outputs": [
    {
     "name": "stdout",
     "output_type": "stream",
     "text": [
      "test\n"
     ]
    },
    {
     "data": {
      "text/plain": [
       "6"
      ]
     },
     "execution_count": 2,
     "metadata": {},
     "output_type": "execute_result"
    }
   ],
   "source": [
    "from schema import Schema\n",
    "print(\"test\")\n",
    "\n",
    "Schema(lambda x: x>5).validate(6)"
   ]
  },
  {
   "cell_type": "code",
   "execution_count": 5,
   "id": "61224418-425a-43ca-9467-44591fd67017",
   "metadata": {},
   "outputs": [
    {
     "name": "stdout",
     "output_type": "stream",
     "text": [
      "test\n"
     ]
    },
    {
     "data": {
      "text/plain": [
       "5"
      ]
     },
     "execution_count": 5,
     "metadata": {},
     "output_type": "execute_result"
    }
   ],
   "source": [
    "from schema import Schema\n",
    "print(\"test\")\n",
    "\n",
    "#Schema(lambda x: x>5).validate(4)\n",
    "\n",
    "class data_test(object):\n",
    "    def __init__(self, data):\n",
    "        self.data = data\n",
    "    \n",
    "    def set_data(self, data):\n",
    "        self.data = data\n",
    "\n",
    "a = data_test(5)\n",
    "a.data"
   ]
  },
  {
   "cell_type": "code",
   "execution_count": 6,
   "id": "351145d3-0ceb-4781-adc5-c7c4b41e44c9",
   "metadata": {},
   "outputs": [
    {
     "name": "stdout",
     "output_type": "stream",
     "text": [
      "test\n"
     ]
    },
    {
     "ename": "SchemaError",
     "evalue": "<lambda>(4) should evaluate to True",
     "output_type": "error",
     "traceback": [
      "\u001b[0;31m---------------------------------------------------------------------------\u001b[0m",
      "\u001b[0;31mSchemaError\u001b[0m                               Traceback (most recent call last)",
      "Input \u001b[0;32mIn [6]\u001b[0m, in \u001b[0;36m<cell line: 4>\u001b[0;34m()\u001b[0m\n\u001b[1;32m      1\u001b[0m \u001b[38;5;28;01mfrom\u001b[39;00m \u001b[38;5;21;01mschema\u001b[39;00m \u001b[38;5;28;01mimport\u001b[39;00m Schema\n\u001b[1;32m      2\u001b[0m \u001b[38;5;28mprint\u001b[39m(\u001b[38;5;124m\"\u001b[39m\u001b[38;5;124mtest\u001b[39m\u001b[38;5;124m\"\u001b[39m)\n\u001b[0;32m----> 4\u001b[0m \u001b[43mSchema\u001b[49m\u001b[43m(\u001b[49m\u001b[38;5;28;43;01mlambda\u001b[39;49;00m\u001b[43m \u001b[49m\u001b[43mx\u001b[49m\u001b[43m:\u001b[49m\u001b[43m \u001b[49m\u001b[43mx\u001b[49m\u001b[38;5;241;43m>\u001b[39;49m\u001b[38;5;241;43m5\u001b[39;49m\u001b[43m)\u001b[49m\u001b[38;5;241;43m.\u001b[39;49m\u001b[43mvalidate\u001b[49m\u001b[43m(\u001b[49m\u001b[38;5;241;43m4\u001b[39;49m\u001b[43m)\u001b[49m\n\u001b[1;32m      6\u001b[0m \u001b[38;5;28;01mclass\u001b[39;00m \u001b[38;5;21;01mdata_validator\u001b[39;00m(\u001b[38;5;28mobject\u001b[39m):\n\u001b[1;32m      7\u001b[0m     \u001b[38;5;28;01mdef\u001b[39;00m \u001b[38;5;21m__init__\u001b[39m(\u001b[38;5;28mself\u001b[39m, schema):\n",
      "File \u001b[0;32m~/.pyenv/versions/3.9.6/envs/data-validation/lib/python3.9/site-packages/schema.py:463\u001b[0m, in \u001b[0;36mSchema.validate\u001b[0;34m(self, data, **kwargs)\u001b[0m\n\u001b[1;32m    461\u001b[0m     message \u001b[38;5;241m=\u001b[39m \u001b[38;5;124m\"\u001b[39m\u001b[38;5;132;01m%s\u001b[39;00m\u001b[38;5;124m(\u001b[39m\u001b[38;5;132;01m%r\u001b[39;00m\u001b[38;5;124m) should evaluate to True\u001b[39m\u001b[38;5;124m\"\u001b[39m \u001b[38;5;241m%\u001b[39m (f, data)\n\u001b[1;32m    462\u001b[0m     message \u001b[38;5;241m=\u001b[39m \u001b[38;5;28mself\u001b[39m\u001b[38;5;241m.\u001b[39m_prepend_schema_name(message)\n\u001b[0;32m--> 463\u001b[0m     \u001b[38;5;28;01mraise\u001b[39;00m SchemaError(message, e\u001b[38;5;241m.\u001b[39mformat(data) \u001b[38;5;28;01mif\u001b[39;00m e \u001b[38;5;28;01melse\u001b[39;00m \u001b[38;5;28;01mNone\u001b[39;00m)\n\u001b[1;32m    464\u001b[0m \u001b[38;5;28;01mif\u001b[39;00m s \u001b[38;5;241m==\u001b[39m data:\n\u001b[1;32m    465\u001b[0m     \u001b[38;5;28;01mreturn\u001b[39;00m data\n",
      "\u001b[0;31mSchemaError\u001b[0m: <lambda>(4) should evaluate to True"
     ]
    }
   ],
   "source": [
    "from schema import Schema\n",
    "print(\"test\")\n",
    "\n",
    "#Schema(lambda x: x>5).validate(4)\n",
    "\n",
    "class data_validator(object):\n",
    "    def __init__(self, schema):\n",
    "        self.schema = schema\n",
    "    \n",
    "    def __call__(self, data):\n",
    "        self.schema.validate(data)\n",
    "\n",
    "class data_test(object):\n",
    "    def __init__(self, data):\n",
    "        self.data = data\n",
    "    \n",
    "    def set_data(self, data):\n",
    "        tmp = data_validator(Schema(lambda x: x>5))\n",
    "        self.data = tmp(data)\n",
    "\n",
    "\n",
    "\n",
    "a = data_test(5)"
   ]
  },
  {
   "cell_type": "code",
   "execution_count": null,
   "id": "d193b8bb-a0e2-42ec-a672-96d799932342",
   "metadata": {},
   "outputs": [],
   "source": []
  }
 ],
 "metadata": {
  "kernelspec": {
   "display_name": "Python 3 (ipykernel)",
   "language": "python",
   "name": "python3"
  },
  "language_info": {
   "codemirror_mode": {
    "name": "ipython",
    "version": 3
   },
   "file_extension": ".py",
   "mimetype": "text/x-python",
   "name": "python",
   "nbconvert_exporter": "python",
   "pygments_lexer": "ipython3",
   "version": "3.9.6"
  }
 },
 "nbformat": 4,
 "nbformat_minor": 5
}
