{
 "cells": [
  {
   "cell_type": "code",
   "execution_count": 1,
   "id": "34e9294d-1bf2-4db1-93bb-97953bed2182",
   "metadata": {},
   "outputs": [
    {
     "name": "stdout",
     "output_type": "stream",
     "text": [
      "test\n"
     ]
    },
    {
     "data": {
      "text/plain": [
       "6"
      ]
     },
     "execution_count": 1,
     "metadata": {},
     "output_type": "execute_result"
    }
   ],
   "source": [
    "from schema import Schema\n",
    "print(\"test\")\n",
    "\n",
    "Schema(lambda x: x>5).validate(6)"
   ]
  },
  {
   "cell_type": "code",
   "execution_count": 2,
   "id": "61224418-425a-43ca-9467-44591fd67017",
   "metadata": {},
   "outputs": [
    {
     "name": "stdout",
     "output_type": "stream",
     "text": [
      "test\n"
     ]
    },
    {
     "data": {
      "text/plain": [
       "5"
      ]
     },
     "execution_count": 2,
     "metadata": {},
     "output_type": "execute_result"
    }
   ],
   "source": [
    "from schema import Schema\n",
    "print(\"test\")\n",
    "\n",
    "#Schema(lambda x: x>5).validate(4)\n",
    "\n",
    "class data_test(object):\n",
    "    def __init__(self, data):\n",
    "        self.data = data\n",
    "    \n",
    "    def set_data(self, data):\n",
    "        self.data = data\n",
    "\n",
    "a = data_test(5)\n",
    "a.data"
   ]
  },
  {
   "cell_type": "code",
   "execution_count": 3,
   "id": "351145d3-0ceb-4781-adc5-c7c4b41e44c9",
   "metadata": {},
   "outputs": [
    {
     "name": "stdout",
     "output_type": "stream",
     "text": [
      "test\n"
     ]
    },
    {
     "data": {
      "text/plain": [
       "3"
      ]
     },
     "execution_count": 3,
     "metadata": {},
     "output_type": "execute_result"
    }
   ],
   "source": [
    "from schema import Schema\n",
    "print(\"test\")\n",
    "\n",
    "#Schema(lambda x: x>5).validate(4)\n",
    "\n",
    "class data_validator(object):\n",
    "    def __init__(self, schema):\n",
    "        self.schema = Schema(lambda x: x>5).validate(4)\n",
    "    \n",
    "    def __call__(self, data):\n",
    "        self.schema.validate(data)\n",
    "\n",
    "class data_test(object):\n",
    "    def __init__(self, data):\n",
    "        self.data = data\n",
    "    \n",
    "    def set_data(self, data):\n",
    "        tmp = data_validator(Schema(lambda x: x>5))\n",
    "        self.data = tmp(data)\n",
    "\n",
    "\n",
    "\n",
    "a = data_test(3)\n",
    "a.data"
   ]
  },
  {
   "cell_type": "code",
   "execution_count": null,
   "id": "d193b8bb-a0e2-42ec-a672-96d799932342",
   "metadata": {},
   "outputs": [],
   "source": []
  }
 ],
 "metadata": {
  "kernelspec": {
   "display_name": "Python 3 (ipykernel)",
   "language": "python",
   "name": "python3"
  },
  "language_info": {
   "codemirror_mode": {
    "name": "ipython",
    "version": 3
   },
   "file_extension": ".py",
   "mimetype": "text/x-python",
   "name": "python",
   "nbconvert_exporter": "python",
   "pygments_lexer": "ipython3",
   "version": "3.9.6"
  }
 },
 "nbformat": 4,
 "nbformat_minor": 5
}
