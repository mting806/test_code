{
 "cells": [
  {
   "cell_type": "code",
   "execution_count": 2,
   "id": "767d8844",
   "metadata": {},
   "outputs": [
    {
     "name": "stdout",
     "output_type": "stream",
     "text": [
      "[TestData(size=20, name='test5'), TestData(size=30, name='test3'), TestData(size=10, name='test1')]\n"
     ]
    }
   ],
   "source": [
    "from dataclasses import dataclass\n",
    "from dataclasses import field\n",
    "\n",
    "\n",
    "@dataclass(order=True)\n",
    "class TestData:\n",
    "    size: int\n",
    "    name: str\n",
    "    sort_index: str = field(init=False, repr=False)\n",
    "    \n",
    "    def __post_init__(self):\n",
    "        self.sort_index = self.name\n",
    "\n",
    "a = TestData(size=10, name=\"test1\")\n",
    "b = TestData(size=20, name=\"test5\")\n",
    "c = TestData(size=30, name=\"test3\")\n",
    "\n",
    "d = [a, b, c]\n",
    "d.sort(key=lambda x: x.sort_index, reverse=True)\n",
    "print(d)\n"
   ]
  }
 ],
 "metadata": {
  "interpreter": {
   "hash": "db352d5cab4c7007268ad9c84008c7e5777b8ce9f854956835a0f5e3073d32c1"
  },
  "kernelspec": {
   "display_name": "Python 3.9.6 64-bit ('test-code')",
   "language": "python",
   "name": "python3"
  },
  "language_info": {
   "codemirror_mode": {
    "name": "ipython",
    "version": 3
   },
   "file_extension": ".py",
   "mimetype": "text/x-python",
   "name": "python",
   "nbconvert_exporter": "python",
   "pygments_lexer": "ipython3",
   "version": "3.9.6"
  }
 },
 "nbformat": 4,
 "nbformat_minor": 5
}
