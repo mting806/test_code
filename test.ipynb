{
 "cells": [
  {
   "cell_type": "code",
   "execution_count": 2,
   "id": "d193b8bb-a0e2-42ec-a672-96d799932342",
   "metadata": {},
   "outputs": [
    {
     "ename": "SchemaError",
     "evalue": "<lambda>(2) should evaluate to True",
     "output_type": "error",
     "traceback": [
      "\u001b[0;31m---------------------------------------------------------------------------\u001b[0m",
      "\u001b[0;31mSchemaError\u001b[0m                               Traceback (most recent call last)",
      "\u001b[1;32m/Users/dianfengdu/Desktop/projects/test_code/test.ipynb Cell 1'\u001b[0m in \u001b[0;36m<cell line: 20>\u001b[0;34m()\u001b[0m\n\u001b[1;32m     <a href='vscode-notebook-cell:/Users/dianfengdu/Desktop/projects/test_code/test.ipynb#ch0000000?line=16'>17</a>\u001b[0m         \u001b[39mreturn\u001b[39;00m data\n\u001b[1;32m     <a href='vscode-notebook-cell:/Users/dianfengdu/Desktop/projects/test_code/test.ipynb#ch0000000?line=18'>19</a>\u001b[0m a \u001b[39m=\u001b[39m data_test(\u001b[39m15\u001b[39m)\n\u001b[0;32m---> <a href='vscode-notebook-cell:/Users/dianfengdu/Desktop/projects/test_code/test.ipynb#ch0000000?line=19'>20</a>\u001b[0m a\u001b[39m.\u001b[39;49mset_date(\u001b[39m2\u001b[39;49m)\n\u001b[1;32m     <a href='vscode-notebook-cell:/Users/dianfengdu/Desktop/projects/test_code/test.ipynb#ch0000000?line=20'>21</a>\u001b[0m \u001b[39mprint\u001b[39m(a\u001b[39m.\u001b[39mdata)\n",
      "\u001b[1;32m/Users/dianfengdu/Desktop/projects/test_code/test.ipynb Cell 1'\u001b[0m in \u001b[0;36mdata_validator_func.validate.<locals>.wrapper\u001b[0;34m(self, *args, **kwargs)\u001b[0m\n\u001b[1;32m      <a href='vscode-notebook-cell:/Users/dianfengdu/Desktop/projects/test_code/test.ipynb#ch0000000?line=5'>6</a>\u001b[0m \u001b[39mdef\u001b[39;00m \u001b[39mwrapper\u001b[39m(\u001b[39mself\u001b[39m, \u001b[39m*\u001b[39margs, \u001b[39m*\u001b[39m\u001b[39m*\u001b[39mkwargs):\n\u001b[0;32m----> <a href='vscode-notebook-cell:/Users/dianfengdu/Desktop/projects/test_code/test.ipynb#ch0000000?line=6'>7</a>\u001b[0m     \u001b[39mreturn\u001b[39;00m Schema(\u001b[39mlambda\u001b[39;49;00m x: x\u001b[39m>\u001b[39;49m\u001b[39m5\u001b[39;49m)\u001b[39m.\u001b[39;49mvalidate(func(\u001b[39mself\u001b[39;49m, \u001b[39m*\u001b[39;49margs, \u001b[39m*\u001b[39;49m\u001b[39m*\u001b[39;49mkwargs))\n",
      "File \u001b[0;32m~/.pyenv/versions/3.9.6/envs/test-code/lib/python3.9/site-packages/schema.py:463\u001b[0m, in \u001b[0;36mSchema.validate\u001b[0;34m(self, data, **kwargs)\u001b[0m\n\u001b[1;32m    <a href='file:///Users/dianfengdu/.pyenv/versions/3.9.6/envs/test-code/lib/python3.9/site-packages/schema.py?line=460'>461</a>\u001b[0m     message \u001b[39m=\u001b[39m \u001b[39m\"\u001b[39m\u001b[39m%s\u001b[39;00m\u001b[39m(\u001b[39m\u001b[39m%r\u001b[39;00m\u001b[39m) should evaluate to True\u001b[39m\u001b[39m\"\u001b[39m \u001b[39m%\u001b[39m (f, data)\n\u001b[1;32m    <a href='file:///Users/dianfengdu/.pyenv/versions/3.9.6/envs/test-code/lib/python3.9/site-packages/schema.py?line=461'>462</a>\u001b[0m     message \u001b[39m=\u001b[39m \u001b[39mself\u001b[39m\u001b[39m.\u001b[39m_prepend_schema_name(message)\n\u001b[0;32m--> <a href='file:///Users/dianfengdu/.pyenv/versions/3.9.6/envs/test-code/lib/python3.9/site-packages/schema.py?line=462'>463</a>\u001b[0m     \u001b[39mraise\u001b[39;00m SchemaError(message, e\u001b[39m.\u001b[39mformat(data) \u001b[39mif\u001b[39;00m e \u001b[39melse\u001b[39;00m \u001b[39mNone\u001b[39;00m)\n\u001b[1;32m    <a href='file:///Users/dianfengdu/.pyenv/versions/3.9.6/envs/test-code/lib/python3.9/site-packages/schema.py?line=463'>464</a>\u001b[0m \u001b[39mif\u001b[39;00m s \u001b[39m==\u001b[39m data:\n\u001b[1;32m    <a href='file:///Users/dianfengdu/.pyenv/versions/3.9.6/envs/test-code/lib/python3.9/site-packages/schema.py?line=464'>465</a>\u001b[0m     \u001b[39mreturn\u001b[39;00m data\n",
      "\u001b[0;31mSchemaError\u001b[0m: <lambda>(2) should evaluate to True"
     ]
    }
   ],
   "source": [
    "from schema import Schema\n",
    "\n",
    "class data_validator_func(object):\n",
    "    @staticmethod\n",
    "    def validate(func):\n",
    "        def wrapper(self, *args, **kwargs):\n",
    "            return Schema(lambda x: x>5).validate(func(self, *args, **kwargs))\n",
    "        return wrapper\n",
    "\n",
    "class data_test(object):\n",
    "    def __init__(self, data):\n",
    "        self.data = data\n",
    "\n",
    "    @data_validator_func.validate\n",
    "    def set_date(self, data):\n",
    "        self.data = data\n",
    "        return data\n",
    "\n",
    "a = data_test(15)\n",
    "a.set_date(2)\n",
    "print(a.data)"
   ]
  }
 ],
 "metadata": {
  "kernelspec": {
   "display_name": "Python 3 (ipykernel)",
   "language": "python",
   "name": "python3"
  },
  "language_info": {
   "codemirror_mode": {
    "name": "ipython",
    "version": 3
   },
   "file_extension": ".py",
   "mimetype": "text/x-python",
   "name": "python",
   "nbconvert_exporter": "python",
   "pygments_lexer": "ipython3",
   "version": "3.9.6"
  }
 },
 "nbformat": 4,
 "nbformat_minor": 5
}
